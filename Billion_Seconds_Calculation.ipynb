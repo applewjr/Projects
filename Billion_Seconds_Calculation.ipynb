{
 "cells": [
  {
   "cell_type": "code",
   "execution_count": 1,
   "metadata": {},
   "outputs": [
    {
     "name": "stdout",
     "output_type": "stream",
     "text": [
      "Today is August 25, 2021 20:02:36\n",
      "John Smith was born on January 01, 1995 18:30:00\n",
      "and will be 1 billion seconds old on September 09, 2026 20:16:40\n",
      "84.09% of the way there, 159063243 seconds to go\n"
     ]
    }
   ],
   "source": [
    "# Enter your birthday here\n",
    "name = \"John Smith\"\n",
    "year = 1995\n",
    "month = 1\n",
    "day = 1\n",
    "hour = 18\n",
    "minute = 30\n",
    "\n",
    "\n",
    "# Engine\n",
    "import datetime\n",
    "b = 1000000000\n",
    "now = datetime.datetime.now()\n",
    "billion = datetime.timedelta(0, b)\n",
    "birth = datetime.datetime(year, month, day, hour, minute)\n",
    "birth_billion = birth + billion\n",
    "progress = (now - birth)/billion\n",
    "seconds_left = round(b - (progress * b))\n",
    "\n",
    "print (\"Today is\",now.strftime(\"%B %d, %Y %H:%M:%S\"))\n",
    "print (name,\"was born on\",birth.strftime(\"%B %d, %Y %H:%M:%S\"))\n",
    "if seconds_left >=0:\n",
    "    print (\"and will be 1 billion seconds old on {}\".format(birth_billion.strftime(\"%B %d, %Y %H:%M:%S\")))\n",
    "    print (\"{:.2%}\".format(progress),\"of the way there,\",seconds_left,\"seconds to go\")\n",
    "else:\n",
    "    print (\"and was 1 billion seconds old on {}\".format(birth_billion.strftime(\"%B %d, %Y %H:%M:%S\")))"
   ]
  },
  {
   "cell_type": "code",
   "execution_count": 2,
   "metadata": {},
   "outputs": [
    {
     "name": "stdout",
     "output_type": "stream",
     "text": [
      "Today is August 25, 2021 20:02:55\n",
      "John Smith was born on January 01, 1989 18:30:00\n",
      "and was 1 billion seconds old on September 09, 2020 20:16:40\n"
     ]
    }
   ],
   "source": [
    "# Enter your birthday here\n",
    "name = \"John Smith\"\n",
    "year = 1989\n",
    "month = 1\n",
    "day = 1\n",
    "hour = 18\n",
    "minute = 30\n",
    "\n",
    "\n",
    "# Engine\n",
    "import datetime\n",
    "b = 1000000000\n",
    "now = datetime.datetime.now()\n",
    "billion = datetime.timedelta(0, b)\n",
    "birth = datetime.datetime(year, month, day, hour, minute)\n",
    "birth_billion = birth + billion\n",
    "progress = (now - birth)/billion\n",
    "seconds_left = round(b - (progress * b))\n",
    "\n",
    "print (\"Today is\",now.strftime(\"%B %d, %Y %H:%M:%S\"))\n",
    "print (name,\"was born on\",birth.strftime(\"%B %d, %Y %H:%M:%S\"))\n",
    "if seconds_left >=0:\n",
    "    print (\"and will be 1 billion seconds old on {}\".format(birth_billion.strftime(\"%B %d, %Y %H:%M:%S\")))\n",
    "    print (\"{:.2%}\".format(progress),\"of the way there,\",seconds_left,\"seconds to go\")\n",
    "else:\n",
    "    print (\"and was 1 billion seconds old on {}\".format(birth_billion.strftime(\"%B %d, %Y %H:%M:%S\")))"
   ]
  }
 ],
 "metadata": {
  "kernelspec": {
   "display_name": "Python 3",
   "language": "python",
   "name": "python3"
  },
  "language_info": {
   "codemirror_mode": {
    "name": "ipython",
    "version": 3
   },
   "file_extension": ".py",
   "mimetype": "text/x-python",
   "name": "python",
   "nbconvert_exporter": "python",
   "pygments_lexer": "ipython3",
   "version": "3.7.4"
  }
 },
 "nbformat": 4,
 "nbformat_minor": 2
}
