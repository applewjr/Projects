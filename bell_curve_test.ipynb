{
 "cells": [
  {
   "cell_type": "markdown",
   "metadata": {},
   "source": [
    "If you have a series of objects, each with 10 units, and a win/lose transaction occurs where 1 unit is traded between the winner and loser, how many transactions will it take for all units to converge into the possession of one object? If you run this 1000 times, will the distribution be normally ditributed?"
   ]
  },
  {
   "cell_type": "code",
   "execution_count": 1,
   "metadata": {},
   "outputs": [],
   "source": [
    "import random\n",
    "import matplotlib.pyplot as plot\n",
    "import numpy as np"
   ]
  },
  {
   "cell_type": "code",
   "execution_count": 2,
   "metadata": {},
   "outputs": [],
   "source": [
    "units_per_object = 10\n",
    "iterations = 1000"
   ]
  },
  {
   "cell_type": "code",
   "execution_count": 3,
   "metadata": {},
   "outputs": [
    {
     "name": "stdout",
     "output_type": "stream",
     "text": [
      "min = 1171, mean = 4464.592, median = 3893.0, max = 17920\n"
     ]
    },
    {
     "data": {
      "image/png": "[encoded data removed]",
      "text/plain": [
       "<Figure size 432x288 with 1 Axes>"
      ]
     },
     "metadata": {
      "needs_background": "light"
     },
     "output_type": "display_data"
    }
   ],
   "source": [
    "count_list = []\n",
    "\n",
    "for i in range(iterations):\n",
    "\n",
    "    a = b = c = d = e = f = g = h = i = j = units_per_object\n",
    "    lista = [a, b, c, d, e, f, g, h, i, j]\n",
    "    big_count = 0\n",
    "\n",
    "    while max(lista)-min(lista) != units_per_object * len(lista):        \n",
    "        x = y = m = n = 0\n",
    "\n",
    "        choice = []\n",
    "        for i, v in enumerate(lista):\n",
    "            if lista[i] == 0:\n",
    "                pass\n",
    "            else:\n",
    "                choice.append(i)\n",
    "\n",
    "        while x == y: # ensure x, y assinged and not the same\n",
    "            x = random.choice(choice)\n",
    "            y = random.choice(choice)\n",
    "        while m == n: # ensure m, n assinged and not the same\n",
    "            m = random.randint(1, 1000000)\n",
    "            n = random.randint(1, 1000000)\n",
    "\n",
    "        if m > n: # run the test, assign a winner and loser\n",
    "            lista[x] += 1\n",
    "            lista[y] -= 1\n",
    "        else:\n",
    "            lista[x] -= 1\n",
    "            lista[y] += 1\n",
    "\n",
    "        big_count += 1\n",
    "\n",
    "    count_list.append(big_count)\n",
    "\n",
    "mean = np.mean(count_list)\n",
    "median = np.median(count_list)\n",
    "max = np.max(count_list)\n",
    "min = np.min(count_list)\n",
    "print(f'{min = }, {mean = }, {median = }, {max = }')\n",
    "\n",
    "plot.hist(count_list, 25)\n",
    "plot.show()"
   ]
  },
  {
   "cell_type": "code",
   "execution_count": null,
   "metadata": {},
   "outputs": [],
   "source": []
  }
 ],
 "metadata": {
  "kernelspec": {
   "display_name": "Python 3",
   "language": "python",
   "name": "python3"
  },
  "language_info": {
   "codemirror_mode": {
    "name": "ipython",
    "version": 3
   },
   "file_extension": ".py",
   "mimetype": "text/x-python",
   "name": "python",
   "nbconvert_exporter": "python",
   "pygments_lexer": "ipython3",
   "version": "3.9.9"
  }
 },
 "nbformat": 4,
 "nbformat_minor": 2
}
